{
  "nbformat": 4,
  "nbformat_minor": 0,
  "metadata": {
    "colab": {
      "name": "jupyter",
      "provenance": []
    },
    "kernelspec": {
      "name": "python3",
      "display_name": "Python 3"
    },
    "language_info": {
      "name": "python"
    }
  },
  "cells": [
    {
      "cell_type": "code",
      "execution_count": null,
      "metadata": {
        "id": "gKbX-rdZFO0n",
        "cellView": "form"
      },
      "outputs": [],
      "source": [
        "#@title Build archiso profiles\n",
        "\n",
        "profile = \"releng\" #@param [\"releng\"]\n",
        "mirror = \"geo.mirror.pkgbuild.com\" #@param [\"geo.mirror.pkgbuild.com\"]\n",
        "#@markdown The whole process takes about an hour, so take a coffee, don't\n",
        "#@markdown close the page and be ready to prove you're not a robot.\n",
        "\n",
        "#@markdown **NOTE:** Down run this on your local Ubuntu, you will break it.\n",
        "\n",
        "!apt install git python-pip >/dev/null 2>&1\n",
        "!sudo pip install ipython >/dev/null 2>&1\n",
        "!git clone https://github.com/tallero/archiso-profiles >/dev/null 2>&1\n",
        "!git -C archiso-profiles checkout -b noapps >/dev/null 2>&1\n",
        "!git -C archiso-profiles pull origin noapps >/dev/null 2>&1\n",
        "%run \"archiso-profiles/jupyter/build.ipy\"\n",
        "\n",
        "build_releng()"
      ]
    },
    {
      "cell_type": "code",
      "source": [
        ""
      ],
      "metadata": {
        "id": "9ZIm4r30Kb_i"
      },
      "execution_count": null,
      "outputs": []
    }
  ]
}