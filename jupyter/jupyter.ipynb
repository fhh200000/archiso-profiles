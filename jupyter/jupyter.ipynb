{
  "nbformat": 4,
  "nbformat_minor": 0,
  "metadata": {
    "colab": {
      "name": "jupyter",
      "provenance": []
    },
    "kernelspec": {
      "name": "python3",
      "display_name": "Python 3"
    },
    "language_info": {
      "name": "python"
    }
  },
  "cells": [
    {
      "cell_type": "code",
      "execution_count": null,
      "metadata": {
        "id": "gKbX-rdZFO0n"
      },
      "outputs": [],
      "source": [
        "!apt install git python-pip\n",
        "!sudo pip install ipython\n",
        "!git clone https://github.com/tallero/archiso-profiles\n",
        "!git -C archiso-profiles checkout -b noapps\n",
        "!git -C archiso-profiles pull origin noapps\n",
        "!ls archiso-profiles/desktop\n",
        "%run archiso-profiles/desktop/colab.ipy"
      ]
    }
  ]
}